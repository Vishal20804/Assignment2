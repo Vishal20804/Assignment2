{
 "cells": [
  {
   "cell_type": "code",
   "execution_count": null,
   "id": "eccb3aba-3f2b-465b-9407-2ab26972f9b3",
   "metadata": {},
   "outputs": [],
   "source": [
    "Ans:1=(1)for loop\n",
    "for i in range(0,10):\n",
    "    print(i)\n",
    "    \n",
    "(2) #using while loop\n",
    "while(i<10):\n",
    "    print(i)\n",
    "    i++"
   ]
  },
  {
   "cell_type": "code",
   "execution_count": null,
   "id": "d60ce026-eea5-4dbe-aa4d-604cdeda5abd",
   "metadata": {},
   "outputs": [],
   "source": [
    "Ans:2=\n",
    "sum=0\n",
    "product=1\n",
    "for i in (1,11):\n",
    "    sum=sum+i\n",
    "    product=product*i\n",
    "    print(product)\n",
    "    print(sum)\n",
    "    \n",
    "#using while loop\n",
    "sum=0\n",
    "product=1\n",
    "while(i<11):\n",
    "    sum=sum+i\n",
    "    product=product*i\n",
    "    print(sum)\n",
    "    print(product)\n",
    "    i++"
   ]
  },
  {
   "cell_type": "code",
   "execution_count": null,
   "id": "c9799c07-284c-4040-aa08-b5c01d6855a2",
   "metadata": {},
   "outputs": [],
   "source": [
    "ans:3=\n",
    "unit=int(input(\"enter the unit\"))\n",
    "if unit <=100:\n",
    "    bill=unit*4.5\n",
    "    print(bill)\n",
    "elif(unit>=101 and unit<=200):\n",
    "    bill=unit*6\n",
    "    print(bill)\n",
    "elif(unit>=201 and unit<=300):\n",
    "    bill=unit*10\n",
    "    print(bill)\n",
    "else:\n",
    "    bill=unit*10\n",
    "    print(bill)"
   ]
  },
  {
   "cell_type": "code",
   "execution_count": null,
   "id": "ed839b61-2c02-4ece-b7d4-623c8f21e9e9",
   "metadata": {},
   "outputs": [],
   "source": [
    "Ans:4=\n",
    "#using for loop\n",
    "l=[]\n",
    "cube=1\n",
    "for i in range(1,100):\n",
    "    cube=i*i*i\n",
    "    if(cube%4==0 and cube %5==0):\n",
    "        l.append(i)\n",
    "        print(i)\n",
    "        \n",
    "#using while loop\n",
    "l=[]\n",
    "cube=1\n",
    "while(i<100):\n",
    "    cube=i*i*i\n",
    "    if(cube%4==0 and cube %5==0):\n",
    "        l.append(i)\n",
    "        print(i)\n",
    "        i++"
   ]
  },
  {
   "cell_type": "code",
   "execution_count": null,
   "id": "c6f18ec2-564d-48bb-9693-be7ef488e17f",
   "metadata": {},
   "outputs": [],
   "source": [
    "Ans:5=\n",
    "a=list(\"i want to become a dat scientist\")\n",
    "def vowel(x):\n",
    "    v=('a','e','i','o','u')\n",
    "    return x in v\n",
    "\n",
    "b=list(filter(vowel,a))\n",
    "print(\"Vowels : \",b)\n",
    "print(\"No of Vowels : \",len(b))"
   ]
  }
 ],
 "metadata": {
  "kernelspec": {
   "display_name": "Python 3 (ipykernel)",
   "language": "python",
   "name": "python3"
  },
  "language_info": {
   "codemirror_mode": {
    "name": "ipython",
    "version": 3
   },
   "file_extension": ".py",
   "mimetype": "text/x-python",
   "name": "python",
   "nbconvert_exporter": "python",
   "pygments_lexer": "ipython3",
   "version": "3.10.8"
  }
 },
 "nbformat": 4,
 "nbformat_minor": 5
}
